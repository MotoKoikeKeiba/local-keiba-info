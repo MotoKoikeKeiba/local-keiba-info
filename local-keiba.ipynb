{
 "cells": [
  {
   "cell_type": "markdown",
   "metadata": {},
   "source": [
    "# 1. モジュールインポート"
   ]
  },
  {
   "cell_type": "code",
   "execution_count": null,
   "metadata": {},
   "outputs": [],
   "source": [
    "import modules.localData as mylocalData\n",
    "%load_ext autoreload"
   ]
  },
  {
   "cell_type": "markdown",
   "metadata": {},
   "source": [
    "# 2.現役馬の競走馬一覧を作成"
   ]
  },
  {
   "cell_type": "code",
   "execution_count": 40,
   "metadata": {},
   "outputs": [],
   "source": [
    "%autoreload"
   ]
  },
  {
   "cell_type": "code",
   "execution_count": 41,
   "metadata": {},
   "outputs": [
    {
     "data": {
      "application/vnd.jupyter.widget-view+json": {
       "model_id": "4b7c805692a6471fbe2ab6df2c94d9a3",
       "version_major": 2,
       "version_minor": 0
      },
      "text/plain": [
       "  0%|          | 0/13 [00:00<?, ?it/s]"
      ]
     },
     "metadata": {},
     "output_type": "display_data"
    }
   ],
   "source": [
    "# https://www.keiba.go.jpより、現役馬の競走馬一覧を取得する\n",
    "df = mylocalData.scrape()"
   ]
  },
  {
   "cell_type": "code",
   "execution_count": 42,
   "metadata": {},
   "outputs": [],
   "source": [
    "# pickleファイルに保存\n",
    "df.to_pickle('horse_list.pickle')"
   ]
  },
  {
   "cell_type": "code",
   "execution_count": 43,
   "metadata": {},
   "outputs": [
    {
     "data": {
      "text/html": [
       "<div>\n",
       "<style scoped>\n",
       "    .dataframe tbody tr th:only-of-type {\n",
       "        vertical-align: middle;\n",
       "    }\n",
       "\n",
       "    .dataframe tbody tr th {\n",
       "        vertical-align: top;\n",
       "    }\n",
       "\n",
       "    .dataframe thead th {\n",
       "        text-align: right;\n",
       "    }\n",
       "</style>\n",
       "<table border=\"1\" class=\"dataframe\">\n",
       "  <thead>\n",
       "    <tr style=\"text-align: right;\">\n",
       "      <th></th>\n",
       "      <th>No.</th>\n",
       "      <th>馬名</th>\n",
       "      <th>性齢</th>\n",
       "      <th>生年</th>\n",
       "      <th>所属</th>\n",
       "      <th>父名</th>\n",
       "      <th>母名</th>\n",
       "      <th>horse_id</th>\n",
       "    </tr>\n",
       "  </thead>\n",
       "  <tbody>\n",
       "    <tr>\n",
       "      <th>0</th>\n",
       "      <td>1</td>\n",
       "      <td>アークウイングラス</td>\n",
       "      <td>牝2</td>\n",
       "      <td>2020</td>\n",
       "      <td>北海道</td>\n",
       "      <td>リアルインパクト</td>\n",
       "      <td>ウインクルグラス</td>\n",
       "      <td>30083407776</td>\n",
       "    </tr>\n",
       "    <tr>\n",
       "      <th>1</th>\n",
       "      <td>2</td>\n",
       "      <td>アースウルフ</td>\n",
       "      <td>セン5</td>\n",
       "      <td>2017</td>\n",
       "      <td>北海道</td>\n",
       "      <td>オルフェーヴル</td>\n",
       "      <td>アースシンボル</td>\n",
       "      <td>30026405446</td>\n",
       "    </tr>\n",
       "    <tr>\n",
       "      <th>2</th>\n",
       "      <td>3</td>\n",
       "      <td>アースクインビー</td>\n",
       "      <td>牝6</td>\n",
       "      <td>2016</td>\n",
       "      <td>北海道</td>\n",
       "      <td>ハービンジャー</td>\n",
       "      <td>シルククインビー</td>\n",
       "      <td>30033403636</td>\n",
       "    </tr>\n",
       "    <tr>\n",
       "      <th>3</th>\n",
       "      <td>4</td>\n",
       "      <td>アースジェロディ</td>\n",
       "      <td>牡6</td>\n",
       "      <td>2016</td>\n",
       "      <td>北海道</td>\n",
       "      <td>ハービンジャー</td>\n",
       "      <td>ホシノアテナ</td>\n",
       "      <td>30068403436</td>\n",
       "    </tr>\n",
       "    <tr>\n",
       "      <th>4</th>\n",
       "      <td>5</td>\n",
       "      <td>アーススカーレット</td>\n",
       "      <td>牡4</td>\n",
       "      <td>2018</td>\n",
       "      <td>北海道</td>\n",
       "      <td>ダイワメジャー</td>\n",
       "      <td>アースシンボル</td>\n",
       "      <td>30027402656</td>\n",
       "    </tr>\n",
       "    <tr>\n",
       "      <th>...</th>\n",
       "      <td>...</td>\n",
       "      <td>...</td>\n",
       "      <td>...</td>\n",
       "      <td>...</td>\n",
       "      <td>...</td>\n",
       "      <td>...</td>\n",
       "      <td>...</td>\n",
       "      <td>...</td>\n",
       "    </tr>\n",
       "    <tr>\n",
       "      <th>12417</th>\n",
       "      <td>855</td>\n",
       "      <td>ワンダーペスタ</td>\n",
       "      <td>セン7</td>\n",
       "      <td>2015</td>\n",
       "      <td>浦和</td>\n",
       "      <td>ベーカバド</td>\n",
       "      <td>メイショウシュウカ</td>\n",
       "      <td>30095403426</td>\n",
       "    </tr>\n",
       "    <tr>\n",
       "      <th>12418</th>\n",
       "      <td>856</td>\n",
       "      <td>ヴィガーエッジ</td>\n",
       "      <td>セン9</td>\n",
       "      <td>2013</td>\n",
       "      <td>浦和</td>\n",
       "      <td>キングカメハメハ</td>\n",
       "      <td>エラドゥーラ</td>\n",
       "      <td>30051402906</td>\n",
       "    </tr>\n",
       "    <tr>\n",
       "      <th>12419</th>\n",
       "      <td>857</td>\n",
       "      <td>ヴィクトリアブーケ</td>\n",
       "      <td>牝4</td>\n",
       "      <td>2018</td>\n",
       "      <td>浦和</td>\n",
       "      <td>スウェプトオーヴァーボード</td>\n",
       "      <td>キャスケードブーケ</td>\n",
       "      <td>30066400456</td>\n",
       "    </tr>\n",
       "    <tr>\n",
       "      <th>12420</th>\n",
       "      <td>858</td>\n",
       "      <td>ヴィテスミット</td>\n",
       "      <td>牡6</td>\n",
       "      <td>2016</td>\n",
       "      <td>浦和</td>\n",
       "      <td>プリサイスエンド</td>\n",
       "      <td>ニシノナデシコ</td>\n",
       "      <td>30004403336</td>\n",
       "    </tr>\n",
       "    <tr>\n",
       "      <th>12421</th>\n",
       "      <td>859</td>\n",
       "      <td>ヴェールレガロ</td>\n",
       "      <td>牡7</td>\n",
       "      <td>2015</td>\n",
       "      <td>浦和</td>\n",
       "      <td>カジノドライヴ</td>\n",
       "      <td>ドレスデングリーン</td>\n",
       "      <td>30077409326</td>\n",
       "    </tr>\n",
       "  </tbody>\n",
       "</table>\n",
       "<p>12422 rows × 8 columns</p>\n",
       "</div>"
      ],
      "text/plain": [
       "       No.         馬名   性齢    生年   所属             父名         母名     horse_id\n",
       "0        1  アークウイングラス   牝2  2020  北海道       リアルインパクト   ウインクルグラス  30083407776\n",
       "1        2     アースウルフ  セン5  2017  北海道        オルフェーヴル    アースシンボル  30026405446\n",
       "2        3   アースクインビー   牝6  2016  北海道        ハービンジャー   シルククインビー  30033403636\n",
       "3        4   アースジェロディ   牡6  2016  北海道        ハービンジャー     ホシノアテナ  30068403436\n",
       "4        5  アーススカーレット   牡4  2018  北海道        ダイワメジャー    アースシンボル  30027402656\n",
       "...    ...        ...  ...   ...  ...            ...        ...          ...\n",
       "12417  855    ワンダーペスタ  セン7  2015   浦和          ベーカバド  メイショウシュウカ  30095403426\n",
       "12418  856    ヴィガーエッジ  セン9  2013   浦和       キングカメハメハ     エラドゥーラ  30051402906\n",
       "12419  857  ヴィクトリアブーケ   牝4  2018   浦和  スウェプトオーヴァーボード  キャスケードブーケ  30066400456\n",
       "12420  858    ヴィテスミット   牡6  2016   浦和       プリサイスエンド    ニシノナデシコ  30004403336\n",
       "12421  859    ヴェールレガロ   牡7  2015   浦和        カジノドライヴ  ドレスデングリーン  30077409326\n",
       "\n",
       "[12422 rows x 8 columns]"
      ]
     },
     "execution_count": 43,
     "metadata": {},
     "output_type": "execute_result"
    }
   ],
   "source": [
    "df"
   ]
  },
  {
   "cell_type": "code",
   "execution_count": 44,
   "metadata": {},
   "outputs": [
    {
     "data": {
      "text/plain": [
       "0        30083407776\n",
       "1        30026405446\n",
       "2        30033403636\n",
       "3        30068403436\n",
       "4        30027402656\n",
       "            ...     \n",
       "12417    30095403426\n",
       "12418    30051402906\n",
       "12419    30066400456\n",
       "12420    30004403336\n",
       "12421    30077409326\n",
       "Name: horse_id, Length: 12422, dtype: object"
      ]
     },
     "execution_count": 44,
     "metadata": {},
     "output_type": "execute_result"
    }
   ],
   "source": [
    "df['horse_id']"
   ]
  },
  {
   "cell_type": "code",
   "execution_count": 105,
   "metadata": {},
   "outputs": [],
   "source": [
    "# 表示カラム数拡張\n",
    "import pandas as pd\n",
    "pd.set_option('display.max_columns', None)\n",
    "#pd.set_option('display.max_rows', None)\n",
    "pd.set_option('display.max_rows', 40)"
   ]
  },
  {
   "cell_type": "code",
   "execution_count": 101,
   "metadata": {},
   "outputs": [
    {
     "name": "stdout",
     "output_type": "stream",
     "text": [
      "        No.         馬名   性齢    生年   所属             父名         母名     horse_id\n",
      "1182   1151   ロケットスピード   牡2  2020  北海道       ミッキーロケット     サクラダモン  30048407076\n",
      "1183   1152    ロジータガール   牝5  2017  北海道       オウケンマジック    ファイナルパル  30096400346\n",
      "1184   1153     ロッソナブア   牡2  2020  北海道        グランデッツァ   ベラミカントリー  30026403176\n",
      "1185   1154  ロドルフォブレイン   牡5  2017  北海道      ヴィクトワールピサ      ペイドリン  30088406146\n",
      "1186   1155      ロドレッタ   牝2  2020  北海道        サトノクラウン  グローリアスイリス  30097405676\n",
      "...     ...        ...  ...   ...  ...            ...        ...          ...\n",
      "12417   855    ワンダーペスタ  セン7  2015   浦和          ベーカバド  メイショウシュウカ  30095403426\n",
      "12418   856    ヴィガーエッジ  セン9  2013   浦和       キングカメハメハ     エラドゥーラ  30051402906\n",
      "12419   857  ヴィクトリアブーケ   牝4  2018   浦和  スウェプトオーヴァーボード  キャスケードブーケ  30066400456\n",
      "12420   858    ヴィテスミット   牡6  2016   浦和       プリサイスエンド    ニシノナデシコ  30004403336\n",
      "12421   859    ヴェールレガロ   牡7  2015   浦和        カジノドライヴ  ドレスデングリーン  30077409326\n",
      "\n",
      "[361 rows x 8 columns]\n"
     ]
    }
   ],
   "source": [
    "# 重複行を抽出\n",
    "#df['horse_id'].duplicated()\n",
    "print(df[df['horse_id'].duplicated()])\n"
   ]
  },
  {
   "cell_type": "code",
   "execution_count": 52,
   "metadata": {},
   "outputs": [
    {
     "data": {
      "text/plain": [
       "12061"
      ]
     },
     "execution_count": 52,
     "metadata": {},
     "output_type": "execute_result"
    }
   ],
   "source": [
    "# horse_idの重複データを削除\n",
    "horse_id_list = df['horse_id'].unique()\n",
    "len(horse_id_list)"
   ]
  },
  {
   "cell_type": "code",
   "execution_count": 53,
   "metadata": {},
   "outputs": [],
   "source": [
    "# list型へ変換\n",
    "horse_id_list2 = horse_id_list.tolist()"
   ]
  },
  {
   "cell_type": "markdown",
   "metadata": {},
   "source": [
    "# 3.所有馬主情報を取得"
   ]
  },
  {
   "cell_type": "code",
   "execution_count": 112,
   "metadata": {},
   "outputs": [
    {
     "name": "stdout",
     "output_type": "stream",
     "text": [
      "The autoreload extension is already loaded. To reload it, use:\n",
      "  %reload_ext autoreload\n"
     ]
    }
   ],
   "source": [
    "# モジュールを更新した際、notebookに反映させるために使用。\n",
    "# すでにインポートしてあるモジュールの更新が反映される。\n",
    "%autoreload\n",
    "%load_ext autoreload"
   ]
  },
  {
   "cell_type": "code",
   "execution_count": 113,
   "metadata": {},
   "outputs": [
    {
     "data": {
      "application/vnd.jupyter.widget-view+json": {
       "model_id": "c052649c115b429b99d4a1eebb662e17",
       "version_major": 2,
       "version_minor": 0
      },
      "text/plain": [
       "  0%|          | 0/2 [00:00<?, ?it/s]"
      ]
     },
     "metadata": {},
     "output_type": "display_data"
    }
   ],
   "source": [
    "# horse_idリストの馬主を取得する\n",
    "#df_horse = mylocalData.scrape_horse(['30083407776', '30026405446'])\n",
    "#df_horse = mylocalData.scrape_horse(['30072403095', '30008409326'])\n",
    "#df_horse = mylocalData.scrape_horse(['30034402376', '30044400176'])\n",
    "df_horse_info = mylocalData.scrape_horse(horse_id_list2)"
   ]
  },
  {
   "cell_type": "code",
   "execution_count": 94,
   "metadata": {},
   "outputs": [],
   "source": [
    "# pickleファイルに保存\n",
    "df_horse_info.to_pickle('owner.pickle')"
   ]
  },
  {
   "cell_type": "code",
   "execution_count": 91,
   "metadata": {},
   "outputs": [
    {
     "data": {
      "text/html": [
       "<div>\n",
       "<style scoped>\n",
       "    .dataframe tbody tr th:only-of-type {\n",
       "        vertical-align: middle;\n",
       "    }\n",
       "\n",
       "    .dataframe tbody tr th {\n",
       "        vertical-align: top;\n",
       "    }\n",
       "\n",
       "    .dataframe thead th {\n",
       "        text-align: right;\n",
       "    }\n",
       "</style>\n",
       "<table border=\"1\" class=\"dataframe\">\n",
       "  <thead>\n",
       "    <tr style=\"text-align: right;\">\n",
       "      <th></th>\n",
       "      <th>umanushi</th>\n",
       "    </tr>\n",
       "  </thead>\n",
       "  <tbody>\n",
       "    <tr>\n",
       "      <th>30083407776</th>\n",
       "      <td>アークフロンティア （株）</td>\n",
       "    </tr>\n",
       "    <tr>\n",
       "      <th>30026405446</th>\n",
       "      <td>松 山  増 男</td>\n",
       "    </tr>\n",
       "    <tr>\n",
       "      <th>30033403636</th>\n",
       "      <td>松 山  増 男</td>\n",
       "    </tr>\n",
       "    <tr>\n",
       "      <th>30068403436</th>\n",
       "      <td>松 山  増 男</td>\n",
       "    </tr>\n",
       "    <tr>\n",
       "      <th>30027402656</th>\n",
       "      <td>松 山  増 男</td>\n",
       "    </tr>\n",
       "  </tbody>\n",
       "</table>\n",
       "</div>"
      ],
      "text/plain": [
       "                   umanushi\n",
       "30083407776   アークフロンティア （株）\n",
       "30026405446        松 山  増 男\n",
       "30033403636        松 山  増 男\n",
       "30068403436        松 山  増 男\n",
       "30027402656        松 山  増 男"
      ]
     },
     "execution_count": 91,
     "metadata": {},
     "output_type": "execute_result"
    }
   ],
   "source": [
    "df_horse_info.head()"
   ]
  },
  {
   "cell_type": "code",
   "execution_count": 106,
   "metadata": {},
   "outputs": [
    {
     "data": {
      "text/plain": [
       "umanushi      \n",
       " （同） ＪＰＮ技研        204\n",
       " （株） ファーストビジョン    191\n",
       " 小 橋  亮 太         162\n",
       " 酒 井  孝 敏         114\n",
       " 冨 田  藤 男          90\n",
       "                 ... \n",
       " 松 嶋  宏 篤           1\n",
       " 松 岡    悟           1\n",
       " 松 尾  直 樹           1\n",
       " 松 井  陽 明           1\n",
       " 松 浦  一 久           1\n",
       "Length: 2667, dtype: int64"
      ]
     },
     "execution_count": 106,
     "metadata": {},
     "output_type": "execute_result"
    }
   ],
   "source": [
    "df_horse_info.value_counts()"
   ]
  }
 ],
 "metadata": {
  "interpreter": {
   "hash": "86b876b27ca5c2d1364eeb23e2b9702e4618994875f621a0c288ea87a3030d46"
  },
  "kernelspec": {
   "display_name": "Python 3.8.8 ('base')",
   "language": "python",
   "name": "python3"
  },
  "language_info": {
   "codemirror_mode": {
    "name": "ipython",
    "version": 3
   },
   "file_extension": ".py",
   "mimetype": "text/x-python",
   "name": "python",
   "nbconvert_exporter": "python",
   "pygments_lexer": "ipython3",
   "version": "3.8.8"
  },
  "orig_nbformat": 4
 },
 "nbformat": 4,
 "nbformat_minor": 2
}
